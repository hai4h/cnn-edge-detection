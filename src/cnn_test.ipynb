{
 "cells": [
  {
   "cell_type": "code",
   "execution_count": null,
   "metadata": {
    "colab": {
     "base_uri": "https://localhost:8080/"
    },
    "id": "xGNfaArgZnTg",
    "outputId": "ed864356-3fcb-4aed-829b-e0758a15a110",
    "scrolled": true
   },
   "outputs": [],
   "source": [
    "!pip install opencv-python matplotlib"
   ]
  },
  {
   "cell_type": "code",
   "execution_count": null,
   "metadata": {},
   "outputs": [],
   "source": [
    "import cv2\n",
    "import numpy as np\n",
    "import matplotlib.pyplot as plt"
   ]
  },
  {
   "cell_type": "code",
   "execution_count": null,
   "metadata": {
    "ExecuteTime": {
     "end_time": "2024-10-15T13:37:30.709667Z",
     "start_time": "2024-10-15T13:37:29.443212Z"
    },
    "colab": {
     "base_uri": "https://localhost:8080/",
     "height": 635
    },
    "id": "vKXt3HRXcYiI",
    "outputId": "5c19d807-5e9b-46fd-816c-e608d73306fd"
   },
   "outputs": [],
   "source": [
    "# Đọc ảnh và chuyển sang ảnh grayscale\n",
    "image = cv2.imread('lena256.jpg', cv2.IMREAD_GRAYSCALE)\n",
    "\n",
    "# Sử dụng Canny để phát hiện viền và tạo nhãn (label)\n",
    "edgesCanny = cv2.Canny(image, threshold1=100, threshold2=200)\n",
    "edgesCannyTest = cv2.Canny(image, threshold1=150, threshold2=200)\n",
    "\n",
    "# Hiển thị ảnh gốc và viền\n",
    "plt.figure(figsize=(15,5))\n",
    "plt.subplot(1, 3, 1)\n",
    "plt.title('Ảnh gốc')\n",
    "plt.imshow(image, cmap='gray')\n",
    "plt.subplot(1, 3, 2)\n",
    "plt.title('Viền được phát hiện')\n",
    "plt.imshow(edgesCanny, cmap='gray')\n",
    "plt.subplot(1, 3, 3)\n",
    "plt.title('Viền được phát hiện')\n",
    "plt.imshow(edgesCannyTest, cmap='gray')\n",
    "plt.show()\n"
   ]
  },
  {
   "cell_type": "code",
   "execution_count": null,
   "metadata": {
    "ExecuteTime": {
     "end_time": "2024-10-15T13:38:04.334044Z",
     "start_time": "2024-10-15T13:38:02.199721Z"
    },
    "colab": {
     "base_uri": "https://localhost:8080/",
     "height": 320
    },
    "editable": true,
    "id": "OW5lBqDNeW7X",
    "outputId": "02586f99-3fe5-4332-d30b-f137a6a65451",
    "slideshow": {
     "slide_type": ""
    },
    "tags": []
   },
   "outputs": [],
   "source": [
    "from tensorflow.keras import layers, models\n",
    "\n",
    "# Xây dựng mô hình CNN\n",
    "model = models.Sequential()\n",
    "\n",
    "# Lớp tích chập đầu tiên\n",
    "model.add(layers.Conv2D(64, (3, 3), activation='relu', input_shape=(None, None, 1), padding='same'))  # Chấp nhận input với độ phân giải bất kỳ\n",
    "# model.add(layers.BatchNormalization())\n",
    "\n",
    "# Lớp tích chập thứ hai\n",
    "model.add(layers.Conv2D(128, (3, 3), activation='relu', padding='same'))\n",
    "# model.add(layers.BatchNormalization())\n",
    "\n",
    "# Lớp tích chập thứ ba\n",
    "model.add(layers.Conv2D(128, (3, 3), activation='relu', padding='same'))\n",
    "# model.add(layers.BatchNormalization())\n",
    "\n",
    "model.add(layers.Conv2D(128, (3, 3), activation='relu', padding='same'))\n",
    "# model.add(layers.BatchNormalization())\n",
    "\n",
    "# model.add(layers.Conv2D(32, (3, 3), activation='relu', padding='same'))\n",
    "# model.add(layers.BatchNormalization())\n",
    "\n",
    "# model.add(layers.Conv2D(16, (3, 3), activation='relu', padding='same'))\n",
    "# model.add(layers.BatchNormalization())\n",
    "\n",
    "# Lớp kết thúc với 1 kênh đầu ra tương ứng với các viền (edges)\n",
    "model.add(layers.Conv2D(1, (3, 3), activation='sigmoid', padding='same'))\n",
    "\n",
    "# Tổng hợp mô hình\n",
    "model.compile(optimizer='adam',\n",
    "              loss='binary_crossentropy',\n",
    "              metrics=['accuracy'])\n",
    "\n",
    "model.summary()\n"
   ]
  },
  {
   "cell_type": "code",
   "execution_count": null,
   "metadata": {
    "ExecuteTime": {
     "end_time": "2024-10-15T13:39:29.208031Z",
     "start_time": "2024-10-15T13:39:28.846041Z"
    },
    "colab": {
     "base_uri": "https://localhost:8080/"
    },
    "id": "R65s-G9ZgQk9",
    "outputId": "803dcf7c-35a6-4c87-ec44-c0a8d5aa2496"
   },
   "outputs": [],
   "source": [
    "import os\n",
    "\n",
    "# Đường dẫn đến thư mục chứa ảnh\n",
    "image_dir = './train2017/'\n",
    "\n",
    "# Tạo danh sách các đường dẫn đến ảnh\n",
    "list_of_image_paths = [os.path.join(image_dir, file) for file in os.listdir(image_dir) if file.endswith('.jpg')]\n",
    "\n",
    "# # Kiểm tra danh sách đường dẫn\n",
    "# \n",
    "print(len(list_of_image_paths))\n"
   ]
  },
  {
   "cell_type": "code",
   "execution_count": null,
   "metadata": {},
   "outputs": [],
   "source": [
    "# Hàm tiền xử lý ảnh\n",
    "def preprocess_image(image):\n",
    "    image = image / 255.0  # Chuẩn hóa pixel về khoảng [0, 1]\n",
    "    image = np.expand_dims(image, axis=-1)  # Thêm kênh (vì grayscale)\n",
    "    return image"
   ]
  },
  {
   "cell_type": "code",
   "execution_count": null,
   "metadata": {
    "ExecuteTime": {
     "end_time": "2024-10-15T13:40:31.847869Z",
     "start_time": "2024-10-15T13:40:24.070299Z"
    },
    "colab": {
     "base_uri": "https://localhost:8080/"
    },
    "id": "bJFUJciveks5",
    "outputId": "945e2205-fffe-4080-fa18-c5a0eb861244"
   },
   "outputs": [],
   "source": [
    "# Chuẩn bị tập dữ liệu huấn luyện\n",
    "X_train = []\n",
    "y_train = []\n",
    "\n",
    "i = 0\n",
    "for img_path in list_of_image_paths:\n",
    "    if i == 1000:\n",
    "        break\n",
    "\n",
    "    # if i < 1000:\n",
    "    #     i+=1\n",
    "    #     continue\n",
    "\n",
    "    # Đọc ảnh và chuyển sang ảnh grayscale\n",
    "    img = cv2.imread(img_path, cv2.IMREAD_GRAYSCALE)\n",
    "    edges = cv2.Canny(img, 150, 200)\n",
    "\n",
    "    # Tiền xử lý ảnh và nhãn\n",
    "    img_processed = preprocess_image(img)\n",
    "    edges_processed = preprocess_image(edges)\n",
    "\n",
    "    X_train.append(img_processed)\n",
    "    y_train.append(edges_processed)\n",
    "\n",
    "    i += 1\n",
    "\n",
    "# Chuyển thành numpy array\n",
    "X_train = np.array(X_train)\n",
    "y_train = np.array(y_train)\n",
    "\n",
    "print(\"Kích thước dữ liệu:\", X_train.shape, y_train.shape)\n"
   ]
  },
  {
   "cell_type": "code",
   "execution_count": 1,
   "metadata": {},
   "outputs": [],
   "source": [
    "from keras import models\n",
    "model = models.load_model('6000-50epochs.hdf5')"
   ]
  },
  {
   "cell_type": "code",
   "execution_count": null,
   "metadata": {
    "ExecuteTime": {
     "end_time": "2024-10-15T13:41:48.357393Z",
     "start_time": "2024-10-15T13:41:02.108587Z"
    },
    "colab": {
     "base_uri": "https://localhost:8080/",
     "height": 848
    },
    "id": "tsI84DiBgbKf",
    "outputId": "3eed25ca-ff66-4661-a151-3769a3126383"
   },
   "outputs": [],
   "source": [
    "# Huấn luyện mô hình\n",
    "history = model.fit(X_train, y_train, epochs=10, batch_size=16, validation_split=0.2)\n",
    "\n",
    "# Vẽ biểu đồ loss\n",
    "plt.plot(history.history['loss'], label='Training Loss')\n",
    "plt.plot(history.history['val_loss'], label='Validation Loss')\n",
    "plt.title('Training and Validation Loss')\n",
    "plt.xlabel('Epoch')\n",
    "plt.ylabel('Loss')\n",
    "plt.legend()\n",
    "plt.show()"
   ]
  },
  {
   "cell_type": "code",
   "execution_count": null,
   "metadata": {},
   "outputs": [],
   "source": [
    "models.save_model(model, '370k-2000-epochs20-batchsize16.hdf5')"
   ]
  },
  {
   "cell_type": "code",
   "execution_count": null,
   "metadata": {},
   "outputs": [],
   "source": [
    "img_ptgr = cv2.imread('phtgrphr256.jpg', cv2.IMREAD_GRAYSCALE)\n",
    "\n",
    "img_ptgr_canny = cv2.Canny(img_ptgr, threshold1=100, threshold2=200)\n",
    "img_ptgr_processed = preprocess_image(img_ptgr)\n",
    "img_ptgr_predicted = model.predict(np.expand_dims(img_ptgr_processed, axis=0))[0]\n",
    "\n",
    "plt.figure(figsize=(15,5))\n",
    "plt.subplot(1, 3, 1)\n",
    "plt.imshow(img_ptgr, cmap='gray')\n",
    "# plt.subplot(1, 4, 2)\n",
    "# plt.imshow(traffic_img_gray, cmap='gray')\n",
    "plt.subplot(1, 3, 2)\n",
    "plt.imshow(img_ptgr_canny, cmap='gray')\n",
    "plt.subplot(1, 3, 3)\n",
    "plt.imshow(img_ptgr_predicted, cmap='gray')"
   ]
  },
  {
   "cell_type": "code",
   "execution_count": null,
   "metadata": {
    "editable": true,
    "slideshow": {
     "slide_type": ""
    },
    "tags": []
   },
   "outputs": [],
   "source": [
    "betuan_img = cv2.imread('betuan.jpg', cv2.IMREAD_GRAYSCALE)\n",
    "betuan_canny = cv2.Canny(betuan_img, threshold1=150, threshold2=200)\n",
    "betuan_processed = preprocess_image(betuan_img)\n",
    "betuan_predicted = model.predict(np.expand_dims(betuan_processed, axis=0))[0]"
   ]
  },
  {
   "cell_type": "code",
   "execution_count": null,
   "metadata": {},
   "outputs": [],
   "source": [
    "plt.figure(figsize=(20,10))\n",
    "plt.subplot(1, 2, 1)\n",
    "plt.imshow(betuan_predicted, cmap='gray')\n",
    "plt.subplot(1, 2, 2)\n",
    "plt.imshow(betuan_canny, cmap='gray')"
   ]
  },
  {
   "cell_type": "code",
   "execution_count": null,
   "metadata": {},
   "outputs": [],
   "source": [
    "gmc_img = cv2.imread('giac_mo_chieu.jpg', cv2.IMREAD_GRAYSCALE)\n",
    "gmc_processed = preprocess_image(gmc_img)\n",
    "gmc_predicted = model.predict(np.expand_dims(gmc_processed, axis=0))[0]"
   ]
  },
  {
   "cell_type": "code",
   "execution_count": null,
   "metadata": {},
   "outputs": [],
   "source": [
    "plt.figure(figsize=(20,10))\n",
    "plt.imshow(gmc_predicted, cmap='gray')"
   ]
  },
  {
   "cell_type": "code",
   "execution_count": null,
   "metadata": {
    "colab": {
     "base_uri": "https://localhost:8080/"
    },
    "id": "pnx0_vJ9lcjU",
    "outputId": "58758451-2c0b-4810-b592-9ecf788bea2b"
   },
   "outputs": [],
   "source": [
    "# Dự đoán viền trên một ảnh mới\n",
    "test_image = cv2.imread('lena256.jpg', cv2.IMREAD_GRAYSCALE)\n",
    "test_image_processed = preprocess_image(test_image)\n",
    "predicted_edges = model.predict(np.expand_dims(test_image_processed, axis=0))[0]"
   ]
  },
  {
   "cell_type": "code",
   "execution_count": null,
   "metadata": {
    "colab": {
     "base_uri": "https://localhost:8080/",
     "height": 380
    },
    "id": "Uw2pcyYHigTX",
    "outputId": "4c3e77d4-75d6-4d6a-acb5-75d68c33c931",
    "scrolled": true
   },
   "outputs": [],
   "source": [
    "# Hiển thị ảnh gốc và viền\n",
    "plt.figure(figsize=(15,5))\n",
    "plt.subplot(1, 3, 1)\n",
    "plt.title('Ảnh gốc')\n",
    "plt.imshow(test_image, cmap='gray')\n",
    "plt.subplot(1, 3, 2)\n",
    "plt.title('Viền được tách qua Canny')\n",
    "plt.imshow(edgesCannyTest, cmap='gray')\n",
    "plt.subplot(1, 3, 3)\n",
    "plt.title('Viền được dự đoán')\n",
    "plt.imshow(predicted_edges.squeeze(), cmap='gray')\n",
    "plt.show()"
   ]
  },
  {
   "cell_type": "code",
   "execution_count": null,
   "metadata": {},
   "outputs": [],
   "source": []
  }
 ],
 "metadata": {
  "accelerator": "GPU",
  "colab": {
   "gpuType": "T4",
   "provenance": []
  },
  "kernelspec": {
   "display_name": "Python 3 (ipykernel)",
   "language": "python",
   "name": "python3"
  },
  "language_info": {
   "codemirror_mode": {
    "name": "ipython",
    "version": 3
   },
   "file_extension": ".py",
   "mimetype": "text/x-python",
   "name": "python",
   "nbconvert_exporter": "python",
   "pygments_lexer": "ipython3",
   "version": "3.10.15"
  }
 },
 "nbformat": 4,
 "nbformat_minor": 4
}
